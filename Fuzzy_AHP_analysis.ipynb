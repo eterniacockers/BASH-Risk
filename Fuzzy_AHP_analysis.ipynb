{
  "nbformat": 4,
  "nbformat_minor": 0,
  "metadata": {
    "colab": {
      "provenance": [],
      "authorship_tag": "ABX9TyMkrX7UxfcRSfRnI10p7g++",
      "include_colab_link": true
    },
    "kernelspec": {
      "name": "python3",
      "display_name": "Python 3"
    },
    "language_info": {
      "name": "python"
    }
  },
  "cells": [
    {
      "cell_type": "markdown",
      "metadata": {
        "id": "view-in-github",
        "colab_type": "text"
      },
      "source": [
        "<a href=\"https://colab.research.google.com/github/eterniacockers/BASH-Risk/blob/main/Fuzzy_AHP_analysis.ipynb\" target=\"_parent\"><img src=\"https://colab.research.google.com/assets/colab-badge.svg\" alt=\"Open In Colab\"/></a>"
      ]
    },
    {
      "cell_type": "code",
      "source": [
        "from google.colab import files\n",
        "import pandas as pd\n",
        "\n",
        "# Upload file\n",
        "uploaded = files.upload()"
      ],
      "metadata": {
        "colab": {
          "base_uri": "https://localhost:8080/",
          "height": 73
        },
        "id": "JA9Q5ubdHco0",
        "outputId": "6be02201-b457-4d40-daa3-dac89ad40135"
      },
      "execution_count": null,
      "outputs": [
        {
          "output_type": "display_data",
          "data": {
            "text/plain": [
              "<IPython.core.display.HTML object>"
            ],
            "text/html": [
              "\n",
              "     <input type=\"file\" id=\"files-b1543687-a4d8-40b4-8550-63d3a73b5aa8\" name=\"files[]\" multiple disabled\n",
              "        style=\"border:none\" />\n",
              "     <output id=\"result-b1543687-a4d8-40b4-8550-63d3a73b5aa8\">\n",
              "      Upload widget is only available when the cell has been executed in the\n",
              "      current browser session. Please rerun this cell to enable.\n",
              "      </output>\n",
              "      <script>// Copyright 2017 Google LLC\n",
              "//\n",
              "// Licensed under the Apache License, Version 2.0 (the \"License\");\n",
              "// you may not use this file except in compliance with the License.\n",
              "// You may obtain a copy of the License at\n",
              "//\n",
              "//      http://www.apache.org/licenses/LICENSE-2.0\n",
              "//\n",
              "// Unless required by applicable law or agreed to in writing, software\n",
              "// distributed under the License is distributed on an \"AS IS\" BASIS,\n",
              "// WITHOUT WARRANTIES OR CONDITIONS OF ANY KIND, either express or implied.\n",
              "// See the License for the specific language governing permissions and\n",
              "// limitations under the License.\n",
              "\n",
              "/**\n",
              " * @fileoverview Helpers for google.colab Python module.\n",
              " */\n",
              "(function(scope) {\n",
              "function span(text, styleAttributes = {}) {\n",
              "  const element = document.createElement('span');\n",
              "  element.textContent = text;\n",
              "  for (const key of Object.keys(styleAttributes)) {\n",
              "    element.style[key] = styleAttributes[key];\n",
              "  }\n",
              "  return element;\n",
              "}\n",
              "\n",
              "// Max number of bytes which will be uploaded at a time.\n",
              "const MAX_PAYLOAD_SIZE = 100 * 1024;\n",
              "\n",
              "function _uploadFiles(inputId, outputId) {\n",
              "  const steps = uploadFilesStep(inputId, outputId);\n",
              "  const outputElement = document.getElementById(outputId);\n",
              "  // Cache steps on the outputElement to make it available for the next call\n",
              "  // to uploadFilesContinue from Python.\n",
              "  outputElement.steps = steps;\n",
              "\n",
              "  return _uploadFilesContinue(outputId);\n",
              "}\n",
              "\n",
              "// This is roughly an async generator (not supported in the browser yet),\n",
              "// where there are multiple asynchronous steps and the Python side is going\n",
              "// to poll for completion of each step.\n",
              "// This uses a Promise to block the python side on completion of each step,\n",
              "// then passes the result of the previous step as the input to the next step.\n",
              "function _uploadFilesContinue(outputId) {\n",
              "  const outputElement = document.getElementById(outputId);\n",
              "  const steps = outputElement.steps;\n",
              "\n",
              "  const next = steps.next(outputElement.lastPromiseValue);\n",
              "  return Promise.resolve(next.value.promise).then((value) => {\n",
              "    // Cache the last promise value to make it available to the next\n",
              "    // step of the generator.\n",
              "    outputElement.lastPromiseValue = value;\n",
              "    return next.value.response;\n",
              "  });\n",
              "}\n",
              "\n",
              "/**\n",
              " * Generator function which is called between each async step of the upload\n",
              " * process.\n",
              " * @param {string} inputId Element ID of the input file picker element.\n",
              " * @param {string} outputId Element ID of the output display.\n",
              " * @return {!Iterable<!Object>} Iterable of next steps.\n",
              " */\n",
              "function* uploadFilesStep(inputId, outputId) {\n",
              "  const inputElement = document.getElementById(inputId);\n",
              "  inputElement.disabled = false;\n",
              "\n",
              "  const outputElement = document.getElementById(outputId);\n",
              "  outputElement.innerHTML = '';\n",
              "\n",
              "  const pickedPromise = new Promise((resolve) => {\n",
              "    inputElement.addEventListener('change', (e) => {\n",
              "      resolve(e.target.files);\n",
              "    });\n",
              "  });\n",
              "\n",
              "  const cancel = document.createElement('button');\n",
              "  inputElement.parentElement.appendChild(cancel);\n",
              "  cancel.textContent = 'Cancel upload';\n",
              "  const cancelPromise = new Promise((resolve) => {\n",
              "    cancel.onclick = () => {\n",
              "      resolve(null);\n",
              "    };\n",
              "  });\n",
              "\n",
              "  // Wait for the user to pick the files.\n",
              "  const files = yield {\n",
              "    promise: Promise.race([pickedPromise, cancelPromise]),\n",
              "    response: {\n",
              "      action: 'starting',\n",
              "    }\n",
              "  };\n",
              "\n",
              "  cancel.remove();\n",
              "\n",
              "  // Disable the input element since further picks are not allowed.\n",
              "  inputElement.disabled = true;\n",
              "\n",
              "  if (!files) {\n",
              "    return {\n",
              "      response: {\n",
              "        action: 'complete',\n",
              "      }\n",
              "    };\n",
              "  }\n",
              "\n",
              "  for (const file of files) {\n",
              "    const li = document.createElement('li');\n",
              "    li.append(span(file.name, {fontWeight: 'bold'}));\n",
              "    li.append(span(\n",
              "        `(${file.type || 'n/a'}) - ${file.size} bytes, ` +\n",
              "        `last modified: ${\n",
              "            file.lastModifiedDate ? file.lastModifiedDate.toLocaleDateString() :\n",
              "                                    'n/a'} - `));\n",
              "    const percent = span('0% done');\n",
              "    li.appendChild(percent);\n",
              "\n",
              "    outputElement.appendChild(li);\n",
              "\n",
              "    const fileDataPromise = new Promise((resolve) => {\n",
              "      const reader = new FileReader();\n",
              "      reader.onload = (e) => {\n",
              "        resolve(e.target.result);\n",
              "      };\n",
              "      reader.readAsArrayBuffer(file);\n",
              "    });\n",
              "    // Wait for the data to be ready.\n",
              "    let fileData = yield {\n",
              "      promise: fileDataPromise,\n",
              "      response: {\n",
              "        action: 'continue',\n",
              "      }\n",
              "    };\n",
              "\n",
              "    // Use a chunked sending to avoid message size limits. See b/62115660.\n",
              "    let position = 0;\n",
              "    do {\n",
              "      const length = Math.min(fileData.byteLength - position, MAX_PAYLOAD_SIZE);\n",
              "      const chunk = new Uint8Array(fileData, position, length);\n",
              "      position += length;\n",
              "\n",
              "      const base64 = btoa(String.fromCharCode.apply(null, chunk));\n",
              "      yield {\n",
              "        response: {\n",
              "          action: 'append',\n",
              "          file: file.name,\n",
              "          data: base64,\n",
              "        },\n",
              "      };\n",
              "\n",
              "      let percentDone = fileData.byteLength === 0 ?\n",
              "          100 :\n",
              "          Math.round((position / fileData.byteLength) * 100);\n",
              "      percent.textContent = `${percentDone}% done`;\n",
              "\n",
              "    } while (position < fileData.byteLength);\n",
              "  }\n",
              "\n",
              "  // All done.\n",
              "  yield {\n",
              "    response: {\n",
              "      action: 'complete',\n",
              "    }\n",
              "  };\n",
              "}\n",
              "\n",
              "scope.google = scope.google || {};\n",
              "scope.google.colab = scope.google.colab || {};\n",
              "scope.google.colab._files = {\n",
              "  _uploadFiles,\n",
              "  _uploadFilesContinue,\n",
              "};\n",
              "})(self);\n",
              "</script> "
            ]
          },
          "metadata": {}
        },
        {
          "output_type": "stream",
          "name": "stdout",
          "text": [
            "Saving AHP Matrix.xlsx to AHP Matrix.xlsx\n"
          ]
        }
      ]
    },
    {
      "cell_type": "code",
      "source": [
        "import pandas as pd\n",
        "\n",
        "# Load pairwise matrix from Excel\n",
        "file_path = \"AHP Matrix.xlsx\"  # Make sure filename matches exactly\n",
        "df = pd.read_excel(file_path, index_col=0)  # Assuming first column is labels\n",
        "pairwise_matrix = df.values  # Convert to NumPy array\n"
      ],
      "metadata": {
        "id": "Jc8dnJDimp4m"
      },
      "execution_count": null,
      "outputs": []
    },
    {
      "cell_type": "code",
      "source": [
        "import numpy as np\n",
        "import pandas as pd\n",
        "\n",
        "# Step 1: Define Triangular Fuzzy Numbers (TFNs) for Saaty's 1-9 scale\n",
        "fuzzy_scale = {\n",
        "    1: (1, 1, 1),\n",
        "    2: (1, 2, 3),\n",
        "    3: (2, 3, 4),\n",
        "    4: (3, 4, 5),\n",
        "    5: (4, 5, 6),\n",
        "    6: (5, 6, 7),\n",
        "    7: (6, 7, 8),\n",
        "    8: (7, 8, 9),\n",
        "    9: (9, 9, 9)\n",
        "}\n",
        "\n",
        "# Step 2: Create a fuzzy pairwise comparison matrix\n",
        "def create_fuzzy_matrix(pairwise_matrix):\n",
        "    n = pairwise_matrix.shape[0]\n",
        "    fuzzy_matrix = [[(0,0,0) for _ in range(n)] for _ in range(n)]\n",
        "\n",
        "    for i in range(n):\n",
        "        for j in range(n):\n",
        "            val = pairwise_matrix[i, j]\n",
        "            if val == 0:\n",
        "                fuzzy_matrix[i][j] = (0, 0, 0)\n",
        "            elif val >= 1:  # Direct judgment\n",
        "                rounded_val = int(round(val))\n",
        "                rounded_val = min(max(rounded_val, 1), 9)\n",
        "                fuzzy_matrix[i][j] = fuzzy_scale[rounded_val]\n",
        "            else:  # Reciprocal judgment\n",
        "                estimated_score = 10 - (val * 9)\n",
        "                rounded_score = int(round(estimated_score))\n",
        "                rounded_score = min(max(rounded_score, 1), 9)\n",
        "                l, m, u = fuzzy_scale[rounded_score]\n",
        "                fuzzy_matrix[i][j] = (1/u, 1/m, 1/l)\n",
        "    return fuzzy_matrix\n",
        "\n"
      ],
      "metadata": {
        "id": "7WuOQNxulsUd"
      },
      "execution_count": null,
      "outputs": []
    },
    {
      "cell_type": "code",
      "source": [
        "# Step 3: Calculate fuzzy synthetic extent\n",
        "def calculate_fuzzy_synthetic_extent(fuzzy_matrix):\n",
        "    n = len(fuzzy_matrix)\n",
        "    S = []\n",
        "\n",
        "    # Sum columns\n",
        "    col_sums = [(0,0,0) for _ in range(n)]\n",
        "    for j in range(n):\n",
        "        l_sum, m_sum, u_sum = 0, 0, 0\n",
        "        for i in range(n):\n",
        "            l, m, u = fuzzy_matrix[i][j]\n",
        "            l_sum += l\n",
        "            m_sum += m\n",
        "            u_sum += u\n",
        "        col_sums[j] = (l_sum, m_sum, u_sum)\n",
        "\n",
        "    # Calculate synthetic extent for each row\n",
        "    for i in range(n):\n",
        "        l_row, m_row, u_row = 0, 0, 0\n",
        "        for j in range(n):\n",
        "            l, m, u = fuzzy_matrix[i][j]\n",
        "            l_row += l\n",
        "            m_row += m\n",
        "            u_row += u\n",
        "        l_total = sum([col[2] for col in col_sums])  # Sum of upper bounds\n",
        "        m_total = sum([col[1] for col in col_sums])  # Sum of middle values\n",
        "        u_total = sum([col[0] for col in col_sums])  # Sum of lower bounds\n",
        "\n",
        "        S.append((l_row/u_total, m_row/m_total, u_row/l_total))\n",
        "\n",
        "    return S\n"
      ],
      "metadata": {
        "id": "j1jxY9vTl--t"
      },
      "execution_count": null,
      "outputs": []
    },
    {
      "cell_type": "code",
      "source": [
        "# Step 4: Defuzzify using centroid method\n",
        "def defuzzify(fuzzy_numbers):\n",
        "    crisp_values = []\n",
        "    for (l, m, u) in fuzzy_numbers:\n",
        "        crisp = (l + m + u) / 3\n",
        "        crisp_values.append(crisp)\n",
        "    return crisp_values"
      ],
      "metadata": {
        "id": "J58EouTRmM3e"
      },
      "execution_count": null,
      "outputs": []
    },
    {
      "cell_type": "code",
      "source": [
        "## Step 5: Normalize the defuzzified weights\n",
        "def normalize_weights(crisp_values):\n",
        "    total = sum(crisp_values)\n",
        "    normalized = [val / total for val in crisp_values]\n",
        "    return normalized"
      ],
      "metadata": {
        "id": "8v-AwiGrm2eL"
      },
      "execution_count": null,
      "outputs": []
    },
    {
      "cell_type": "code",
      "source": [
        "if __name__ == \"__main__\":\n",
        "    file_path = \"AHP Matrix.xlsx\"\n",
        "    all_sheets = pd.read_excel(file_path, sheet_name=None, index_col=0)\n",
        "\n",
        "    features = ['Wet_Bulb', 'Altimeter', 'Precipitation', 'Humidity', 'Sky_Cond', 'Visibility', 'Wind_Dir', 'Wind_Speed']\n",
        "    results = {}\n",
        "\n",
        "    for sheet_name, df in all_sheets.items():\n",
        "        print(f\"\\nProcessing Sheet: {sheet_name}\")\n",
        "        try:\n",
        "            df = df.dropna(how='all').dropna(axis=1, how='all')\n",
        "\n",
        "            if df.empty:\n",
        "                print(f\"Sheet {sheet_name} skipped (empty sheet)\")\n",
        "                continue\n",
        "\n",
        "            # ✅ No iloc slicing!\n",
        "            # ✅ Reindex properly just like yesterday\n",
        "            df = df.reindex(index=features, columns=features)\n",
        "\n",
        "            pairwise_matrix = df.values\n",
        "            pairwise_matrix = pairwise_matrix.astype(np.float64)\n",
        "\n",
        "            if pairwise_matrix.shape[0] != pairwise_matrix.shape[1]:\n",
        "                print(f\"Sheet {sheet_name} skipped (matrix not square)\")\n",
        "                continue\n",
        "\n",
        "            fuzzy_matrix = create_fuzzy_matrix(pairwise_matrix)\n",
        "            fuzzy_synthetic_extent = calculate_fuzzy_synthetic_extent(fuzzy_matrix)\n",
        "            crisp_weights = defuzzify(fuzzy_synthetic_extent)\n",
        "            normalized_weights = normalize_weights(crisp_weights)\n",
        "\n",
        "            results[sheet_name] = normalized_weights\n",
        "\n",
        "            print(f\"Normalized Weights for {sheet_name}: {normalized_weights}\")\n",
        "\n",
        "        except Exception as e:\n",
        "            print(f\"Error processing sheet {sheet_name}: {e}\")\n",
        "\n",
        "    results_df = pd.DataFrame.from_dict(results, orient='index', columns=features)\n",
        "\n",
        "    print(\"\\nFinal Aggregated Results:\")\n",
        "    print(results_df)\n",
        "\n",
        "    results_df.to_csv(\"Fuzzy_AHP_Results.csv\", index=True)\n",
        "\n",
        "from google.colab import files\n",
        "files.download('Fuzzy_AHP_Results.csv')\n",
        "\n"
      ],
      "metadata": {
        "colab": {
          "base_uri": "https://localhost:8080/",
          "height": 1000
        },
        "id": "ZoEQVa5loFBr",
        "outputId": "6689398e-2471-4c81-9a6a-0372fd0afcec"
      },
      "execution_count": null,
      "outputs": [
        {
          "output_type": "stream",
          "name": "stdout",
          "text": [
            "\n",
            "Processing Sheet: 1\n",
            "Normalized Weights for 1: [0.0643709150776588, 0.023856914678229115, 0.09816707352650969, 0.035090934314896544, 0.16721186787899422, 0.26270053610123084, 0.07421290490538453, 0.2743888535170962]\n",
            "\n",
            "Processing Sheet: 2\n",
            "Normalized Weights for 2: [0.0442387074850936, 0.12449931673208674, 0.2902008612280564, 0.07296271486032864, 0.08388902771610439, 0.07206356285077876, 0.1481066189671619, 0.16403919016038956]\n",
            "\n",
            "Processing Sheet: 3\n",
            "Normalized Weights for 3: [0.07502656230489248, 0.009055424713281959, 0.18634629042984463, 0.058265146903320485, 0.11462127272678456, 0.19167851648942624, 0.1662982941137954, 0.1987084923186543]\n",
            "\n",
            "Processing Sheet: 4\n",
            "Normalized Weights for 4: [0.1069158846924102, 0.03668133785412214, 0.29079137039171404, 0.07496704685780228, 0.2451765132664895, 0.13216335005333255, 0.012740326275763159, 0.10056417060836609]\n",
            "\n",
            "Processing Sheet: 5\n",
            "Normalized Weights for 5: [0.018897003193950584, 0.18256597646932907, 0.21216461049422203, 0.05515921826668706, 0.1504892559739177, 0.13591624275550457, 0.0688033692364284, 0.1760043236099607]\n",
            "\n",
            "Processing Sheet: 6\n",
            "Normalized Weights for 6: [0.11967505739424403, 0.0219982547963729, 0.19961502718035773, 0.0516313510875495, 0.08812240172483138, 0.18481657069815277, 0.18599762242069562, 0.1481437146977961]\n",
            "\n",
            "Processing Sheet: 7\n",
            "Normalized Weights for 7: [0.08616183770828535, 0.11460027890826313, 0.26359017954849484, 0.01782096483771119, 0.06934354141218796, 0.19839171202582628, 0.08529948643003878, 0.16479199912919257]\n",
            "\n",
            "Processing Sheet: 8\n",
            "Normalized Weights for 8: [0.09998033763639909, 0.04437986023799773, 0.21315149537510847, 0.013194360515950522, 0.11960327492528566, 0.19056318890276777, 0.0942147122640114, 0.22491277014247935]\n",
            "\n",
            "Processing Sheet: 9\n",
            "Normalized Weights for 9: [0.07819934213612569, 0.23051086645231522, 0.17061703771211775, 0.06923181247435066, 0.1581348671573821, 0.09776869135590288, 0.09776869135590288, 0.09776869135590288]\n",
            "\n",
            "Processing Sheet: 10\n",
            "Normalized Weights for 10: [0.2198286643861761, 0.02716237339625344, 0.36994006537955154, 0.026606803109749097, 0.03155472591273579, 0.17931046705691336, 0.026732012170093848, 0.11886488858852697]\n",
            "\n",
            "Processing Sheet: 11\n",
            "Normalized Weights for 11: [0.09626539835379722, 0.10990577183830436, 0.13201106891992584, 0.0975863425504514, 0.1660674469806411, 0.11859855144006176, 0.08930440271635741, 0.19026101720046082]\n",
            "\n",
            "Processing Sheet: 12\n",
            "Normalized Weights for 12: [0.017968578638312544, 0.05421117826875673, 0.13614923899582468, 0.02423754306070113, 0.1394624454229441, 0.1505185039865531, 0.2094639612355175, 0.2679885503913902]\n",
            "\n",
            "Processing Sheet: 13\n",
            "Normalized Weights for 13: [0.08873355723972487, 0.024199052067221956, 0.33766738510574396, 0.16584114202790395, 0.13873502420451805, 0.19795365568045126, 0.023435091837218053, 0.023435091837218053]\n",
            "\n",
            "Processing Sheet: 14\n",
            "Normalized Weights for 14: [0.05160867556171995, 0.07296334952958883, 0.34112024022785414, 0.05732684961528203, 0.10439601398033715, 0.06191464593762025, 0.04754326395301094, 0.26312696119458673]\n",
            "\n",
            "Processing Sheet: 15\n",
            "Normalized Weights for 15: [0.190139357366629, 0.14690701475564685, 0.10477235986984546, 0.20033506060457873, 0.014853878053984847, 0.18900235893987336, 0.0151194499017673, 0.13887052050767448]\n",
            "\n",
            "Processing Sheet: 16\n",
            "Normalized Weights for 16: [0.07960336532426228, 0.03841859617169092, 0.23718000134459816, 0.0414760106312866, 0.1614754666069144, 0.2831559295119263, 0.10379232093279368, 0.05489830947652769]\n",
            "\n",
            "Processing Sheet: 17\n",
            "Normalized Weights for 17: [0.03446279304320752, 0.03446279304320752, 0.33789146079582094, 0.0342433832846706, 0.0342433832846706, 0.2317219314571339, 0.034089112779950206, 0.25888514231133875]\n",
            "\n",
            "Processing Sheet: 18\n",
            "Normalized Weights for 18: [0.11183272316470433, 0.039006482282700525, 0.3634857030547418, 0.038177239349573636, 0.12869412244951245, 0.12869412244951245, 0.15108053088265622, 0.03902907636659875]\n",
            "\n",
            "Processing Sheet: 19\n",
            "Normalized Weights for 19: [0.29837556282844857, 0.018133292725923997, 0.056066232316994404, 0.09790409617056554, 0.1567939910416136, 0.07447689849765084, 0.02231019907268873, 0.2759397273461143]\n",
            "\n",
            "Processing Sheet: 20\n",
            "Normalized Weights for 20: [0.0950976980779199, 0.08924787591539574, 0.11094531035891227, 0.013324090937400869, 0.1586455667582702, 0.11950095085487351, 0.22950534075439624, 0.1837331663428312]\n",
            "\n",
            "Processing Sheet: 21\n",
            "Normalized Weights for 21: [0.024508844964805553, 0.04914185138880625, 0.05201299991864242, 0.05201299991864242, 0.10578792097742766, 0.1635801431092526, 0.305373730927124, 0.24758150879529905]\n",
            "\n",
            "Processing Sheet: 22\n",
            "Normalized Weights for 22: [0.015164717713317724, 0.12059799131786623, 0.24448582332247049, 0.03614432203367022, 0.11090853828981279, 0.1404034249019066, 0.14248806160239638, 0.18980712081855958]\n",
            "\n",
            "Processing Sheet: 23\n",
            "Normalized Weights for 23: [0.0824472507565031, 0.13213315311227403, 0.05502115241884441, 0.03411102084790964, 0.1744483668302927, 0.13784854607166966, 0.2352390589732233, 0.14875145098928322]\n",
            "\n",
            "Processing Sheet: 24\n",
            "Normalized Weights for 24: [0.01205765756236526, 0.06784702199616148, 0.08964248545648891, 0.060243339136809536, 0.16309756826543387, 0.27708239363522363, 0.1450716924440758, 0.1849578415034415]\n",
            "\n",
            "Processing Sheet: 25\n",
            "Normalized Weights for 25: [0.0727539476299982, 0.09121795110766243, 0.3059269393470305, 0.09751636302593683, 0.03510740888864739, 0.10638941682830452, 0.06592176305713068, 0.2251662101152893]\n",
            "\n",
            "Processing Sheet: 26\n",
            "Normalized Weights for 26: [0.05777059873772518, 0.11168605880872573, 0.1944657397516953, 0.037168987962520474, 0.16480974402107534, 0.20610996054114777, 0.06674554407512368, 0.16124336610198664]\n",
            "\n",
            "Processing Sheet: 27\n",
            "Normalized Weights for 27: [0.125, 0.125, 0.125, 0.125, 0.125, 0.125, 0.125, 0.125]\n",
            "\n",
            "Processing Sheet: 28\n",
            "Normalized Weights for 28: [0.18122695964083965, 0.014749499282577148, 0.23531561855373226, 0.02462753260639293, 0.12709184783415675, 0.11020125424333256, 0.10197550988080438, 0.20481177795816433]\n",
            "\n",
            "Processing Sheet: 29\n",
            "Normalized Weights for 29: [0.13031955873918727, 0.06269080957351443, 0.3004942140304934, 0.05661286626783518, 0.061390290135185155, 0.11936808344903416, 0.13056245281526055, 0.1385617249894899]\n",
            "\n",
            "Processing Sheet: 30\n",
            "Sheet 30 skipped (empty sheet)\n",
            "\n",
            "Final Aggregated Results:\n",
            "    Wet_Bulb  Altimeter  Precipitation  Humidity  Sky_Cond  Visibility  \\\n",
            "1   0.064371   0.023857       0.098167  0.035091  0.167212    0.262701   \n",
            "2   0.044239   0.124499       0.290201  0.072963  0.083889    0.072064   \n",
            "3   0.075027   0.009055       0.186346  0.058265  0.114621    0.191679   \n",
            "4   0.106916   0.036681       0.290791  0.074967  0.245177    0.132163   \n",
            "5   0.018897   0.182566       0.212165  0.055159  0.150489    0.135916   \n",
            "6   0.119675   0.021998       0.199615  0.051631  0.088122    0.184817   \n",
            "7   0.086162   0.114600       0.263590  0.017821  0.069344    0.198392   \n",
            "8   0.099980   0.044380       0.213151  0.013194  0.119603    0.190563   \n",
            "9   0.078199   0.230511       0.170617  0.069232  0.158135    0.097769   \n",
            "10  0.219829   0.027162       0.369940  0.026607  0.031555    0.179310   \n",
            "11  0.096265   0.109906       0.132011  0.097586  0.166067    0.118599   \n",
            "12  0.017969   0.054211       0.136149  0.024238  0.139462    0.150519   \n",
            "13  0.088734   0.024199       0.337667  0.165841  0.138735    0.197954   \n",
            "14  0.051609   0.072963       0.341120  0.057327  0.104396    0.061915   \n",
            "15  0.190139   0.146907       0.104772  0.200335  0.014854    0.189002   \n",
            "16  0.079603   0.038419       0.237180  0.041476  0.161475    0.283156   \n",
            "17  0.034463   0.034463       0.337891  0.034243  0.034243    0.231722   \n",
            "18  0.111833   0.039006       0.363486  0.038177  0.128694    0.128694   \n",
            "19  0.298376   0.018133       0.056066  0.097904  0.156794    0.074477   \n",
            "20  0.095098   0.089248       0.110945  0.013324  0.158646    0.119501   \n",
            "21  0.024509   0.049142       0.052013  0.052013  0.105788    0.163580   \n",
            "22  0.015165   0.120598       0.244486  0.036144  0.110909    0.140403   \n",
            "23  0.082447   0.132133       0.055021  0.034111  0.174448    0.137849   \n",
            "24  0.012058   0.067847       0.089642  0.060243  0.163098    0.277082   \n",
            "25  0.072754   0.091218       0.305927  0.097516  0.035107    0.106389   \n",
            "26  0.057771   0.111686       0.194466  0.037169  0.164810    0.206110   \n",
            "27  0.125000   0.125000       0.125000  0.125000  0.125000    0.125000   \n",
            "28  0.181227   0.014749       0.235316  0.024628  0.127092    0.110201   \n",
            "29  0.130320   0.062691       0.300494  0.056613  0.061390    0.119368   \n",
            "\n",
            "    Wind_Dir  Wind_Speed  \n",
            "1   0.074213    0.274389  \n",
            "2   0.148107    0.164039  \n",
            "3   0.166298    0.198708  \n",
            "4   0.012740    0.100564  \n",
            "5   0.068803    0.176004  \n",
            "6   0.185998    0.148144  \n",
            "7   0.085299    0.164792  \n",
            "8   0.094215    0.224913  \n",
            "9   0.097769    0.097769  \n",
            "10  0.026732    0.118865  \n",
            "11  0.089304    0.190261  \n",
            "12  0.209464    0.267989  \n",
            "13  0.023435    0.023435  \n",
            "14  0.047543    0.263127  \n",
            "15  0.015119    0.138871  \n",
            "16  0.103792    0.054898  \n",
            "17  0.034089    0.258885  \n",
            "18  0.151081    0.039029  \n",
            "19  0.022310    0.275940  \n",
            "20  0.229505    0.183733  \n",
            "21  0.305374    0.247582  \n",
            "22  0.142488    0.189807  \n",
            "23  0.235239    0.148751  \n",
            "24  0.145072    0.184958  \n",
            "25  0.065922    0.225166  \n",
            "26  0.066746    0.161243  \n",
            "27  0.125000    0.125000  \n",
            "28  0.101976    0.204812  \n",
            "29  0.130562    0.138562  \n"
          ]
        },
        {
          "output_type": "display_data",
          "data": {
            "text/plain": [
              "<IPython.core.display.Javascript object>"
            ],
            "application/javascript": [
              "\n",
              "    async function download(id, filename, size) {\n",
              "      if (!google.colab.kernel.accessAllowed) {\n",
              "        return;\n",
              "      }\n",
              "      const div = document.createElement('div');\n",
              "      const label = document.createElement('label');\n",
              "      label.textContent = `Downloading \"${filename}\": `;\n",
              "      div.appendChild(label);\n",
              "      const progress = document.createElement('progress');\n",
              "      progress.max = size;\n",
              "      div.appendChild(progress);\n",
              "      document.body.appendChild(div);\n",
              "\n",
              "      const buffers = [];\n",
              "      let downloaded = 0;\n",
              "\n",
              "      const channel = await google.colab.kernel.comms.open(id);\n",
              "      // Send a message to notify the kernel that we're ready.\n",
              "      channel.send({})\n",
              "\n",
              "      for await (const message of channel.messages) {\n",
              "        // Send a message to notify the kernel that we're ready.\n",
              "        channel.send({})\n",
              "        if (message.buffers) {\n",
              "          for (const buffer of message.buffers) {\n",
              "            buffers.push(buffer);\n",
              "            downloaded += buffer.byteLength;\n",
              "            progress.value = downloaded;\n",
              "          }\n",
              "        }\n",
              "      }\n",
              "      const blob = new Blob(buffers, {type: 'application/binary'});\n",
              "      const a = document.createElement('a');\n",
              "      a.href = window.URL.createObjectURL(blob);\n",
              "      a.download = filename;\n",
              "      div.appendChild(a);\n",
              "      a.click();\n",
              "      div.remove();\n",
              "    }\n",
              "  "
            ]
          },
          "metadata": {}
        },
        {
          "output_type": "display_data",
          "data": {
            "text/plain": [
              "<IPython.core.display.Javascript object>"
            ],
            "application/javascript": [
              "download(\"download_8df596a7-dc9e-4def-95f4-94760792e488\", \"Fuzzy_AHP_Results.csv\", 4661)"
            ]
          },
          "metadata": {}
        }
      ]
    },
    {
      "cell_type": "code",
      "source": [
        "# ✅ Create DataFrame for Fuzzy AHP (already done actually)\n",
        "priority_df = results_df.copy()\n",
        "priority_df.columns = features  # (optional, if not already correct)\n",
        "\n",
        "# ✅ Preview\n",
        "print(priority_df.round(4))\n",
        "\n"
      ],
      "metadata": {
        "colab": {
          "base_uri": "https://localhost:8080/"
        },
        "id": "J5PSH4-WKaXs",
        "outputId": "3ed4fbe7-a4b6-43c7-fab0-2ee71559f1a6"
      },
      "execution_count": null,
      "outputs": [
        {
          "output_type": "stream",
          "name": "stdout",
          "text": [
            "    Wet_Bulb  Altimeter  Precipitation  Humidity  Sky_Cond  Visibility  \\\n",
            "1     0.0644     0.0239         0.0982    0.0351    0.1672      0.2627   \n",
            "2     0.0442     0.1245         0.2902    0.0730    0.0839      0.0721   \n",
            "3     0.0750     0.0091         0.1863    0.0583    0.1146      0.1917   \n",
            "4     0.1069     0.0367         0.2908    0.0750    0.2452      0.1322   \n",
            "5     0.0189     0.1826         0.2122    0.0552    0.1505      0.1359   \n",
            "6     0.1197     0.0220         0.1996    0.0516    0.0881      0.1848   \n",
            "7     0.0862     0.1146         0.2636    0.0178    0.0693      0.1984   \n",
            "8     0.1000     0.0444         0.2132    0.0132    0.1196      0.1906   \n",
            "9     0.0782     0.2305         0.1706    0.0692    0.1581      0.0978   \n",
            "10    0.2198     0.0272         0.3699    0.0266    0.0316      0.1793   \n",
            "11    0.0963     0.1099         0.1320    0.0976    0.1661      0.1186   \n",
            "12    0.0180     0.0542         0.1361    0.0242    0.1395      0.1505   \n",
            "13    0.0887     0.0242         0.3377    0.1658    0.1387      0.1980   \n",
            "14    0.0516     0.0730         0.3411    0.0573    0.1044      0.0619   \n",
            "15    0.1901     0.1469         0.1048    0.2003    0.0149      0.1890   \n",
            "16    0.0796     0.0384         0.2372    0.0415    0.1615      0.2832   \n",
            "17    0.0345     0.0345         0.3379    0.0342    0.0342      0.2317   \n",
            "18    0.1118     0.0390         0.3635    0.0382    0.1287      0.1287   \n",
            "19    0.2984     0.0181         0.0561    0.0979    0.1568      0.0745   \n",
            "20    0.0951     0.0892         0.1109    0.0133    0.1586      0.1195   \n",
            "21    0.0245     0.0491         0.0520    0.0520    0.1058      0.1636   \n",
            "22    0.0152     0.1206         0.2445    0.0361    0.1109      0.1404   \n",
            "23    0.0824     0.1321         0.0550    0.0341    0.1744      0.1378   \n",
            "24    0.0121     0.0678         0.0896    0.0602    0.1631      0.2771   \n",
            "25    0.0728     0.0912         0.3059    0.0975    0.0351      0.1064   \n",
            "26    0.0578     0.1117         0.1945    0.0372    0.1648      0.2061   \n",
            "27    0.1250     0.1250         0.1250    0.1250    0.1250      0.1250   \n",
            "28    0.1812     0.0147         0.2353    0.0246    0.1271      0.1102   \n",
            "29    0.1303     0.0627         0.3005    0.0566    0.0614      0.1194   \n",
            "\n",
            "    Wind_Dir  Wind_Speed  \n",
            "1     0.0742      0.2744  \n",
            "2     0.1481      0.1640  \n",
            "3     0.1663      0.1987  \n",
            "4     0.0127      0.1006  \n",
            "5     0.0688      0.1760  \n",
            "6     0.1860      0.1481  \n",
            "7     0.0853      0.1648  \n",
            "8     0.0942      0.2249  \n",
            "9     0.0978      0.0978  \n",
            "10    0.0267      0.1189  \n",
            "11    0.0893      0.1903  \n",
            "12    0.2095      0.2680  \n",
            "13    0.0234      0.0234  \n",
            "14    0.0475      0.2631  \n",
            "15    0.0151      0.1389  \n",
            "16    0.1038      0.0549  \n",
            "17    0.0341      0.2589  \n",
            "18    0.1511      0.0390  \n",
            "19    0.0223      0.2759  \n",
            "20    0.2295      0.1837  \n",
            "21    0.3054      0.2476  \n",
            "22    0.1425      0.1898  \n",
            "23    0.2352      0.1488  \n",
            "24    0.1451      0.1850  \n",
            "25    0.0659      0.2252  \n",
            "26    0.0667      0.1612  \n",
            "27    0.1250      0.1250  \n",
            "28    0.1020      0.2048  \n",
            "29    0.1306      0.1386  \n"
          ]
        }
      ]
    },
    {
      "cell_type": "code",
      "source": [
        "# ✅ Average feature importance across all respondents\n",
        "average_weights = priority_df.mean().sort_values(ascending=False)\n",
        "\n",
        "print(\"\\nAverage Feature Weights (Across All Experts):\")\n",
        "print(average_weights.round(4))\n",
        "\n"
      ],
      "metadata": {
        "id": "TGppezT4Kmfi",
        "outputId": "5613f526-a096-49f2-d544-904c310996ee",
        "colab": {
          "base_uri": "https://localhost:8080/"
        }
      },
      "execution_count": null,
      "outputs": [
        {
          "output_type": "stream",
          "name": "stdout",
          "text": [
            "\n",
            "Average Feature Weights (Across All Experts):\n",
            "Precipitation    0.2088\n",
            "Wind_Speed       0.1721\n",
            "Visibility       0.1582\n",
            "Sky_Cond         0.1207\n",
            "Wind_Dir         0.1105\n",
            "Wet_Bulb         0.0924\n",
            "Altimeter        0.0765\n",
            "Humidity         0.0610\n",
            "dtype: float64\n"
          ]
        }
      ]
    },
    {
      "cell_type": "code",
      "source": [
        "# ✅ Export the average weights\n",
        "average_weights_df = average_weights.to_frame(name=\"Average_Importance\")\n",
        "average_weights_df.index.name = \"Feature\"\n",
        "\n",
        "# ✅ Save to CSV\n",
        "average_weights_df.to_csv(\"Average_Feature_Importance_Fuzzy_AHP.csv\")\n",
        "\n",
        "# ✅ Download the file (if you're in Colab)\n",
        "from google.colab import files\n",
        "files.download(\"Average_Feature_Importance_Fuzzy_AHP.csv\")"
      ],
      "metadata": {
        "id": "zMnkwdqPSf8j",
        "outputId": "7d440bce-98b6-4f64-a5cf-4a93ca805b6c",
        "colab": {
          "base_uri": "https://localhost:8080/",
          "height": 17
        }
      },
      "execution_count": null,
      "outputs": [
        {
          "output_type": "display_data",
          "data": {
            "text/plain": [
              "<IPython.core.display.Javascript object>"
            ],
            "application/javascript": [
              "\n",
              "    async function download(id, filename, size) {\n",
              "      if (!google.colab.kernel.accessAllowed) {\n",
              "        return;\n",
              "      }\n",
              "      const div = document.createElement('div');\n",
              "      const label = document.createElement('label');\n",
              "      label.textContent = `Downloading \"${filename}\": `;\n",
              "      div.appendChild(label);\n",
              "      const progress = document.createElement('progress');\n",
              "      progress.max = size;\n",
              "      div.appendChild(progress);\n",
              "      document.body.appendChild(div);\n",
              "\n",
              "      const buffers = [];\n",
              "      let downloaded = 0;\n",
              "\n",
              "      const channel = await google.colab.kernel.comms.open(id);\n",
              "      // Send a message to notify the kernel that we're ready.\n",
              "      channel.send({})\n",
              "\n",
              "      for await (const message of channel.messages) {\n",
              "        // Send a message to notify the kernel that we're ready.\n",
              "        channel.send({})\n",
              "        if (message.buffers) {\n",
              "          for (const buffer of message.buffers) {\n",
              "            buffers.push(buffer);\n",
              "            downloaded += buffer.byteLength;\n",
              "            progress.value = downloaded;\n",
              "          }\n",
              "        }\n",
              "      }\n",
              "      const blob = new Blob(buffers, {type: 'application/binary'});\n",
              "      const a = document.createElement('a');\n",
              "      a.href = window.URL.createObjectURL(blob);\n",
              "      a.download = filename;\n",
              "      div.appendChild(a);\n",
              "      a.click();\n",
              "      div.remove();\n",
              "    }\n",
              "  "
            ]
          },
          "metadata": {}
        },
        {
          "output_type": "display_data",
          "data": {
            "text/plain": [
              "<IPython.core.display.Javascript object>"
            ],
            "application/javascript": [
              "download(\"download_a7027728-c87e-4bc9-af72-692ff4bac07f\", \"Average_Feature_Importance_Fuzzy_AHP.csv\", 269)"
            ]
          },
          "metadata": {}
        }
      ]
    },
    {
      "cell_type": "code",
      "source": [
        "#Next step is to calculate the Crisp pairwise matrix from fuzzy outputs\n",
        "from numpy.linalg import eig\n",
        "\n",
        "# ✅ Random Index values for 8x8 matrix\n",
        "random_index = {1: 0.00, 2: 0.00, 3: 0.58, 4: 0.90, 5: 1.12, 6: 1.24, 7: 1.32, 8: 1.41, 9: 1.45, 10: 1.49}\n",
        "\n",
        "# ✅ Function to calculate CR\n",
        "def calculate_consistency(matrix, priority_vector):\n",
        "    n = matrix.shape[0]\n",
        "    weighted_sum = np.dot(matrix, priority_vector)\n",
        "    lambda_max = np.sum(weighted_sum / priority_vector) / n\n",
        "    CI = (lambda_max - n) / (n - 1)\n",
        "    CR = CI / random_index.get(n, 1.41)  # Default to 1.41 if n not found\n",
        "    return CI, CR\n",
        "\n",
        "# ✅ Storage\n",
        "consistency_ratios = {}\n",
        "\n",
        "# ✅ Main loop over respondents\n",
        "for respondent, weights in priority_df.iterrows():\n",
        "    try:\n",
        "        # Approximate pairwise matrix reconstruction from priority weights\n",
        "        n = len(weights)\n",
        "        matrix = np.zeros((n, n))\n",
        "        for i in range(n):\n",
        "            for j in range(n):\n",
        "                matrix[i, j] = weights[i] / weights[j]  # Ratio of weights\n",
        "\n",
        "        # Calculate CR\n",
        "        CI, CR = calculate_consistency(matrix, weights.values)\n",
        "        consistency_ratios[respondent] = CR\n",
        "    except Exception as e:\n",
        "        print(f\"⚠️ Error calculating CR for respondent {respondent}: {e}\")\n",
        "\n",
        "# ✅ Convert into DataFrame\n",
        "cr_df = pd.DataFrame.from_dict(consistency_ratios, orient=\"index\", columns=[\"Consistency_Ratio\"])\n",
        "\n",
        "print(\"\\nConsistency Ratios (CR) per Respondent:\")\n",
        "print(cr_df.round(4))\n"
      ],
      "metadata": {
        "colab": {
          "base_uri": "https://localhost:8080/"
        },
        "id": "9_pnzVAhvajy",
        "outputId": "04cf410b-48a1-4ab1-855d-50bd9b2ae801"
      },
      "execution_count": null,
      "outputs": [
        {
          "output_type": "stream",
          "name": "stdout",
          "text": [
            "\n",
            "Consistency Ratios (CR) per Respondent:\n",
            "    Consistency_Ratio\n",
            "1                 0.0\n",
            "2                 0.0\n",
            "3                 0.0\n",
            "4                 0.0\n",
            "5                 0.0\n",
            "6                 0.0\n",
            "7                 0.0\n",
            "8                 0.0\n",
            "9                 0.0\n",
            "10                0.0\n",
            "11                0.0\n",
            "12                0.0\n",
            "13                0.0\n",
            "14                0.0\n",
            "15                0.0\n",
            "16                0.0\n",
            "17                0.0\n",
            "18                0.0\n",
            "19                0.0\n",
            "20                0.0\n",
            "21                0.0\n",
            "22                0.0\n",
            "23                0.0\n",
            "24                0.0\n",
            "25                0.0\n",
            "26                0.0\n",
            "27                0.0\n",
            "28                0.0\n",
            "29                0.0\n"
          ]
        },
        {
          "output_type": "stream",
          "name": "stderr",
          "text": [
            "<ipython-input-11-0884d7229fb2>:27: FutureWarning: Series.__getitem__ treating keys as positions is deprecated. In a future version, integer keys will always be treated as labels (consistent with DataFrame behavior). To access a value by position, use `ser.iloc[pos]`\n",
            "  matrix[i, j] = weights[i] / weights[j]  # Ratio of weights\n"
          ]
        }
      ]
    },
    {
      "cell_type": "code",
      "source": [
        "# ✅ Convert consistency ratios into DataFrame\n",
        "cr_df = pd.DataFrame.from_dict(consistency_ratios, orient=\"index\", columns=[\"Consistency_Ratio\"])\n",
        "\n",
        "print(\"\\nConsistency Ratios (CR) per Respondent:\")\n",
        "print(cr_df.round(4))\n",
        "\n"
      ],
      "metadata": {
        "colab": {
          "base_uri": "https://localhost:8080/"
        },
        "id": "qU4dFb6eKME0",
        "outputId": "a725a5c3-20b4-4dac-f0c9-d655ab9f8409"
      },
      "execution_count": null,
      "outputs": [
        {
          "output_type": "stream",
          "name": "stdout",
          "text": [
            "\n",
            "Consistency Ratios (CR) per Respondent:\n",
            "    Consistency_Ratio\n",
            "1                 0.0\n",
            "2                 0.0\n",
            "3                 0.0\n",
            "4                 0.0\n",
            "5                 0.0\n",
            "6                 0.0\n",
            "7                 0.0\n",
            "8                 0.0\n",
            "9                 0.0\n",
            "10                0.0\n",
            "11                0.0\n",
            "12                0.0\n",
            "13                0.0\n",
            "14                0.0\n",
            "15                0.0\n",
            "16                0.0\n",
            "17                0.0\n",
            "18                0.0\n",
            "19                0.0\n",
            "20                0.0\n",
            "21                0.0\n",
            "22                0.0\n",
            "23                0.0\n",
            "24                0.0\n",
            "25                0.0\n",
            "26                0.0\n",
            "27                0.0\n",
            "28                0.0\n",
            "29                0.0\n"
          ]
        }
      ]
    },
    {
      "cell_type": "code",
      "source": [
        "# ✅ Create DataFrame (already done — results_df is your priority_df)\n",
        "priority_df = results_df.copy()\n",
        "priority_df.columns = features  # Just in case\n",
        "\n",
        "# ✅ Save to CSV\n",
        "priority_df.to_csv(\"Fuzzy_Respondent_Feature_Weights.csv\", index_label=\"Respondent_ID\")\n",
        "\n",
        "# ✅ Download the file\n",
        "from google.colab import files\n",
        "files.download(\"Fuzzy_Respondent_Feature_Weights.csv\")\n"
      ],
      "metadata": {
        "colab": {
          "base_uri": "https://localhost:8080/",
          "height": 17
        },
        "id": "lqvy4dvuH4Hl",
        "outputId": "c11e71a3-0b88-4875-f395-127882eb45b5"
      },
      "execution_count": null,
      "outputs": [
        {
          "output_type": "display_data",
          "data": {
            "text/plain": [
              "<IPython.core.display.Javascript object>"
            ],
            "application/javascript": [
              "\n",
              "    async function download(id, filename, size) {\n",
              "      if (!google.colab.kernel.accessAllowed) {\n",
              "        return;\n",
              "      }\n",
              "      const div = document.createElement('div');\n",
              "      const label = document.createElement('label');\n",
              "      label.textContent = `Downloading \"${filename}\": `;\n",
              "      div.appendChild(label);\n",
              "      const progress = document.createElement('progress');\n",
              "      progress.max = size;\n",
              "      div.appendChild(progress);\n",
              "      document.body.appendChild(div);\n",
              "\n",
              "      const buffers = [];\n",
              "      let downloaded = 0;\n",
              "\n",
              "      const channel = await google.colab.kernel.comms.open(id);\n",
              "      // Send a message to notify the kernel that we're ready.\n",
              "      channel.send({})\n",
              "\n",
              "      for await (const message of channel.messages) {\n",
              "        // Send a message to notify the kernel that we're ready.\n",
              "        channel.send({})\n",
              "        if (message.buffers) {\n",
              "          for (const buffer of message.buffers) {\n",
              "            buffers.push(buffer);\n",
              "            downloaded += buffer.byteLength;\n",
              "            progress.value = downloaded;\n",
              "          }\n",
              "        }\n",
              "      }\n",
              "      const blob = new Blob(buffers, {type: 'application/binary'});\n",
              "      const a = document.createElement('a');\n",
              "      a.href = window.URL.createObjectURL(blob);\n",
              "      a.download = filename;\n",
              "      div.appendChild(a);\n",
              "      a.click();\n",
              "      div.remove();\n",
              "    }\n",
              "  "
            ]
          },
          "metadata": {}
        },
        {
          "output_type": "display_data",
          "data": {
            "text/plain": [
              "<IPython.core.display.Javascript object>"
            ],
            "application/javascript": [
              "download(\"download_b264a52b-3173-474d-8d22-f6340f4291b8\", \"Fuzzy_Respondent_Feature_Weights.csv\", 4674)"
            ]
          },
          "metadata": {}
        }
      ]
    },
    {
      "cell_type": "code",
      "source": [
        "import matplotlib.pyplot as plt\n",
        "\n",
        "# ✅ Average feature importance\n",
        "average_weights = priority_df.mean().sort_values(ascending=False)\n",
        "\n",
        "# ✅ Bar Plot\n",
        "plt.figure(figsize=(10,6))\n",
        "average_weights.plot(kind='bar')\n",
        "plt.title(\"Average Feature Importance Across All Respondents (Fuzzy AHP)\")\n",
        "plt.ylabel(\"Normalized Importance Weight\")\n",
        "plt.xlabel(\"Feature\")\n",
        "plt.xticks(rotation=45)\n",
        "plt.grid(True)\n",
        "plt.show()\n"
      ],
      "metadata": {
        "colab": {
          "base_uri": "https://localhost:8080/",
          "height": 622
        },
        "id": "TqWuRIviQ1a5",
        "outputId": "b7387612-72f6-4b47-bff3-d3b9dde8e6ea"
      },
      "execution_count": null,
      "outputs": [
        {
          "output_type": "display_data",
          "data": {
            "text/plain": [
              "<Figure size 1000x600 with 1 Axes>"
            ],
            "image/png": "[encoded data removed]"
          },
          "metadata": {}
        }
      ]
    },
    {
      "cell_type": "markdown",
      "source": [
        "No individual comparison's required since this is a fuzzy evaluation. Moved directly to PCA."
      ],
      "metadata": {
        "id": "9ZT4LD5GTbN8"
      }
    },
    {
      "cell_type": "code",
      "source": [
        "from sklearn.decomposition import PCA\n",
        "from sklearn.preprocessing import StandardScaler\n",
        "import matplotlib.pyplot as plt\n",
        "import seaborn as sns\n",
        "\n",
        "# ✅ Step 1: Standardize data\n",
        "scaler = StandardScaler()\n",
        "X_scaled = scaler.fit_transform(priority_df)\n",
        "\n",
        "# ✅ Step 2: Run PCA\n",
        "pca = PCA()\n",
        "X_pca = pca.fit_transform(X_scaled)\n",
        "\n",
        "# ✅ Step 3: Scree Plot (explained variance)\n",
        "plt.figure(figsize=(8,5))\n",
        "plt.plot(np.cumsum(pca.explained_variance_ratio_), marker='o')\n",
        "plt.title('Cumulative Explained Variance (Fuzzy AHP PCA)')\n",
        "plt.xlabel('Number of Principal Components')\n",
        "plt.ylabel('Cumulative Explained Variance')\n",
        "plt.grid(True)\n",
        "plt.show()\n",
        "\n",
        "# ✅ Step 4: 2D Scatter Plot (first 2 principal components)\n",
        "plt.figure(figsize=(8,6))\n",
        "sns.scatterplot(x=X_pca[:,0], y=X_pca[:,1])\n",
        "plt.title('Respondent Distribution in PC1-PC2 Space (Fuzzy AHP)')\n",
        "plt.xlabel('Principal Component 1')\n",
        "plt.ylabel('Principal Component 2')\n",
        "plt.grid(True)\n",
        "plt.show()\n"
      ],
      "metadata": {
        "colab": {
          "base_uri": "https://localhost:8080/",
          "height": 1000
        },
        "id": "Dv6kcYtFZoav",
        "outputId": "7f0c5bc5-46ed-4182-bc12-a3cd812966b3"
      },
      "execution_count": null,
      "outputs": [
        {
          "output_type": "display_data",
          "data": {
            "text/plain": [
              "<Figure size 800x500 with 1 Axes>"
            ],
            "image/png": "[encoded data removed]"
          },
          "metadata": {}
        },
        {
          "output_type": "display_data",
          "data": {
            "text/plain": [
              "<Figure size 800x600 with 1 Axes>"
            ],
            "image/png": "[encoded data removed]"
          },
          "metadata": {}
        }
      ]
    },
    {
      "cell_type": "code",
      "source": [
        "# ✅ Explained Variance Ratios\n",
        "explained_variance = pca.explained_variance_ratio_\n",
        "\n",
        "# ✅ Print it cleanly\n",
        "print(\"\\nExplained Variance Ratio by Component:\")\n",
        "for i, var in enumerate(explained_variance):\n",
        "    print(f\"PC{i+1}: {var:.4f}\")\n"
      ],
      "metadata": {
        "colab": {
          "base_uri": "https://localhost:8080/"
        },
        "id": "qSq-_k_HzWsr",
        "outputId": "0e9ce955-9593-4c2c-9ffc-7b001403e516"
      },
      "execution_count": null,
      "outputs": [
        {
          "output_type": "stream",
          "name": "stdout",
          "text": [
            "\n",
            "Explained Variance Ratio by Component:\n",
            "PC1: 0.2561\n",
            "PC2: 0.1851\n",
            "PC3: 0.1545\n",
            "PC4: 0.1452\n",
            "PC5: 0.1159\n",
            "PC6: 0.0884\n",
            "PC7: 0.0547\n",
            "PC8: 0.0000\n"
          ]
        }
      ]
    },
    {
      "cell_type": "code",
      "source": [
        "# ✅ PCA Loadings: Feature-to-Component relationships\n",
        "loadings = pd.DataFrame(\n",
        "    pca.components_.T,\n",
        "    index=priority_df.columns,\n",
        "    columns=[f'PC{i+1}' for i in range(len(priority_df.columns))]\n",
        ")\n",
        "\n",
        "print(\"\\nPCA Feature Loadings:\")\n",
        "print(loadings.round(4))\n",
        "\n"
      ],
      "metadata": {
        "colab": {
          "base_uri": "https://localhost:8080/"
        },
        "id": "74e6IZxdaRAt",
        "outputId": "1bd2e23d-21de-4650-acb0-7a9fdc0c873e"
      },
      "execution_count": null,
      "outputs": [
        {
          "output_type": "stream",
          "name": "stdout",
          "text": [
            "\n",
            "PCA Feature Loadings:\n",
            "                  PC1     PC2     PC3     PC4     PC5     PC6     PC7     PC8\n",
            "Wet_Bulb      -0.4178  0.0587  0.5124  0.3072 -0.2609  0.2621 -0.4571  0.3456\n",
            "Altimeter      0.0385  0.6338 -0.3009 -0.3345  0.1932 -0.1593 -0.4958  0.2931\n",
            "Precipitation -0.4036 -0.4031 -0.3287 -0.4185 -0.2744 -0.0925  0.1700  0.5279\n",
            "Humidity      -0.4147  0.4249  0.0213  0.2319  0.4022  0.0851  0.6084  0.2325\n",
            "Sky_Cond       0.2899  0.2096 -0.2014  0.5269 -0.5214 -0.4247  0.1551  0.2785\n",
            "Visibility     0.1148 -0.4356 -0.3080  0.4655  0.5595  0.0046 -0.2740  0.3122\n",
            "Wind_Dir       0.5443  0.0705 -0.0015 -0.1176 -0.0946  0.7001  0.1818  0.3909\n",
            "Wind_Speed     0.3092 -0.1147  0.6348 -0.2383  0.2524 -0.4686  0.1183  0.3663\n"
          ]
        }
      ]
    },
    {
      "cell_type": "code",
      "source": [
        "loadings.to_csv(\"Fuzzy_AHP_PCA_Loadings.csv\")\n",
        "from google.colab import files\n",
        "files.download(\"Fuzzy_AHP_PCA_Loadings.csv\")\n"
      ],
      "metadata": {
        "colab": {
          "base_uri": "https://localhost:8080/",
          "height": 17
        },
        "id": "WPL3E9hmxaLp",
        "outputId": "0831020b-c719-497a-fbcf-a676095c44b9"
      },
      "execution_count": null,
      "outputs": [
        {
          "output_type": "display_data",
          "data": {
            "text/plain": [
              "<IPython.core.display.Javascript object>"
            ],
            "application/javascript": [
              "\n",
              "    async function download(id, filename, size) {\n",
              "      if (!google.colab.kernel.accessAllowed) {\n",
              "        return;\n",
              "      }\n",
              "      const div = document.createElement('div');\n",
              "      const label = document.createElement('label');\n",
              "      label.textContent = `Downloading \"${filename}\": `;\n",
              "      div.appendChild(label);\n",
              "      const progress = document.createElement('progress');\n",
              "      progress.max = size;\n",
              "      div.appendChild(progress);\n",
              "      document.body.appendChild(div);\n",
              "\n",
              "      const buffers = [];\n",
              "      let downloaded = 0;\n",
              "\n",
              "      const channel = await google.colab.kernel.comms.open(id);\n",
              "      // Send a message to notify the kernel that we're ready.\n",
              "      channel.send({})\n",
              "\n",
              "      for await (const message of channel.messages) {\n",
              "        // Send a message to notify the kernel that we're ready.\n",
              "        channel.send({})\n",
              "        if (message.buffers) {\n",
              "          for (const buffer of message.buffers) {\n",
              "            buffers.push(buffer);\n",
              "            downloaded += buffer.byteLength;\n",
              "            progress.value = downloaded;\n",
              "          }\n",
              "        }\n",
              "      }\n",
              "      const blob = new Blob(buffers, {type: 'application/binary'});\n",
              "      const a = document.createElement('a');\n",
              "      a.href = window.URL.createObjectURL(blob);\n",
              "      a.download = filename;\n",
              "      div.appendChild(a);\n",
              "      a.click();\n",
              "      div.remove();\n",
              "    }\n",
              "  "
            ]
          },
          "metadata": {}
        },
        {
          "output_type": "display_data",
          "data": {
            "text/plain": [
              "<IPython.core.display.Javascript object>"
            ],
            "application/javascript": [
              "download(\"download_2a828d91-af7c-4e65-9170-45e5a6799079\", \"Fuzzy_AHP_PCA_Loadings.csv\", 1389)"
            ]
          },
          "metadata": {}
        }
      ]
    },
    {
      "cell_type": "code",
      "source": [
        "import seaborn as sns\n",
        "\n",
        "plt.figure(figsize=(10,8))\n",
        "sns.heatmap(loadings, annot=True, cmap=\"coolwarm\", center=0)\n",
        "plt.title(\"Fuzzy AHP PCA Loadings Heatmap\")\n",
        "plt.show()\n",
        "plt.savefig(\"PCA_Loadings_Heatmap_Fuzzy_AHP.png\", dpi=300)\n",
        "\n",
        "# ✅ Download heatmap\n",
        "files.download(\"PCA_Loadings_Heatmap_Fuzzy_AHP.png\")"
      ],
      "metadata": {
        "colab": {
          "base_uri": "https://localhost:8080/",
          "height": 716
        },
        "id": "B50AswG0xchS",
        "outputId": "0d65b51f-87f6-45d6-a8a3-c100c37bdbe4"
      },
      "execution_count": null,
      "outputs": [
        {
          "output_type": "display_data",
          "data": {
            "text/plain": [
              "<Figure size 1000x800 with 2 Axes>"
            ],
            "image/png": "[encoded data removed]"
          },
          "metadata": {}
        },
        {
          "output_type": "display_data",
          "data": {
            "text/plain": [
              "<IPython.core.display.Javascript object>"
            ],
            "application/javascript": [
              "\n",
              "    async function download(id, filename, size) {\n",
              "      if (!google.colab.kernel.accessAllowed) {\n",
              "        return;\n",
              "      }\n",
              "      const div = document.createElement('div');\n",
              "      const label = document.createElement('label');\n",
              "      label.textContent = `Downloading \"${filename}\": `;\n",
              "      div.appendChild(label);\n",
              "      const progress = document.createElement('progress');\n",
              "      progress.max = size;\n",
              "      div.appendChild(progress);\n",
              "      document.body.appendChild(div);\n",
              "\n",
              "      const buffers = [];\n",
              "      let downloaded = 0;\n",
              "\n",
              "      const channel = await google.colab.kernel.comms.open(id);\n",
              "      // Send a message to notify the kernel that we're ready.\n",
              "      channel.send({})\n",
              "\n",
              "      for await (const message of channel.messages) {\n",
              "        // Send a message to notify the kernel that we're ready.\n",
              "        channel.send({})\n",
              "        if (message.buffers) {\n",
              "          for (const buffer of message.buffers) {\n",
              "            buffers.push(buffer);\n",
              "            downloaded += buffer.byteLength;\n",
              "            progress.value = downloaded;\n",
              "          }\n",
              "        }\n",
              "      }\n",
              "      const blob = new Blob(buffers, {type: 'application/binary'});\n",
              "      const a = document.createElement('a');\n",
              "      a.href = window.URL.createObjectURL(blob);\n",
              "      a.download = filename;\n",
              "      div.appendChild(a);\n",
              "      a.click();\n",
              "      div.remove();\n",
              "    }\n",
              "  "
            ]
          },
          "metadata": {}
        },
        {
          "output_type": "display_data",
          "data": {
            "text/plain": [
              "<IPython.core.display.Javascript object>"
            ],
            "application/javascript": [
              "download(\"download_bf9513e5-b555-450e-9f95-27705e8db8c8\", \"PCA_Loadings_Heatmap_Fuzzy_AHP.png\", 14191)"
            ]
          },
          "metadata": {}
        },
        {
          "output_type": "display_data",
          "data": {
            "text/plain": [
              "<Figure size 640x480 with 0 Axes>"
            ]
          },
          "metadata": {}
        }
      ]
    },
    {
      "cell_type": "code",
      "source": [
        "from scipy.stats import spearmanr\n",
        "\n",
        "ahp_ranks = [1, 2, 3, 4, 5, 6, 7, 8]\n",
        "fuzzy_ranks = [1, 2, 3, 5, 4, 6, 7, 8]  # Based on your rank switch\n",
        "\n",
        "corr, p = spearmanr(ahp_ranks, fuzzy_ranks)\n",
        "print(f\"Spearman Correlation: {corr:.4f}, p-value: {p:.4f}\")\n"
      ],
      "metadata": {
        "colab": {
          "base_uri": "https://localhost:8080/"
        },
        "id": "KeN3jB_KQqjm",
        "outputId": "5bd1a010-1c49-40c2-bf76-1473798e9555"
      },
      "execution_count": null,
      "outputs": [
        {
          "output_type": "stream",
          "name": "stdout",
          "text": [
            "Spearman Correlation: 0.9762, p-value: 0.0000\n"
          ]
        }
      ]
    }
  ]
}